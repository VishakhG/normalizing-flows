{
 "cells": [
  {
   "cell_type": "code",
   "execution_count": 2,
   "metadata": {},
   "outputs": [],
   "source": [
    "import torch\n",
    "import torch.tensor\n",
    "import numpy as np\n",
    "import torch.nn as nn\n",
    "import torch.nn.functional as F\n",
    "import pandas as pd \n",
    "%config Completer.use_jedi = False\n",
    "%matplotlib inline\n",
    "from torch.autograd import Variable\n",
    "import matplotlib.pyplot as plt\n",
    "import seaborn as sns\n"
   ]
  },
  {
   "cell_type": "code",
   "execution_count": 3,
   "metadata": {},
   "outputs": [],
   "source": [
    "def random_normal_samples(n, dim=2):\n",
    "    return torch.zeros(n, dim).normal_(mean=0, std=1)"
   ]
  },
  {
   "cell_type": "code",
   "execution_count": 4,
   "metadata": {},
   "outputs": [],
   "source": [
    "def w_1(z):\n",
    "    return np.sin((2 * np.pi * z[0]) / 4)\n",
    "\n",
    "def w_2(z):\n",
    "    return 3 * np.exp(-.5 * ((z[0] - 1) / .6) ** 2)\n",
    "\n",
    "def sigma(x):\n",
    "    return 1 / (1 + np.exp(- x))\n",
    "\n",
    "def w_3(z):\n",
    "    return 3 * sigma((z[0] - 1) / .3) \n",
    "\n",
    "def pot_1(z):\n",
    "    outer_term_1 = .5 * ( (z.norm() - 2) / .4 ) ** 2\n",
    "    inner_term_1 = torch.exp( (-.5 * ((z[1] - 2) / .6) ** 2) )\n",
    "    inner_term_2 = torch.exp( (-.5 * ((z[1] + 2) / .6 ) ** 2) )\n",
    "    outer_term_2 = torch.log(inner_term_1 + inner_term_2 + 1e-7)\n",
    "    return outer_term_1 - outer_term_2\n",
    "\n",
    "def pot_2(z):\n",
    "    return .5 * ((z[1] - w_1(z) / .4 )) ** 2\n",
    "\n",
    "\n",
    "def pot_3(z):\n",
    "    term_1 = torch.exp(-.5 * ((z[1] - w_1(z[0], z[1])) / .35) **2) \n",
    "    term_2 = np.exp(-.5 * ((z[1] - w_1(z) + w_2(z)) / .35) ** 2)\n",
    "    return -np.log(term_1 + term_2)\n",
    "\n",
    "\n",
    "def pot_4(z):\n",
    "    term_1 = torch.exp(-.5 * ((z[1] - w_1(z)) / .4) **2) \n",
    "    term_2 = torch.exp(-.5 * ((z[1] - w_1(z) + w_3(z)) / .35) ** 2)\n",
    "    return -torch.log(term_1 + term_2)\n",
    "\n"
   ]
  },
  {
   "cell_type": "code",
   "execution_count": 63,
   "metadata": {},
   "outputs": [],
   "source": [
    "class VariationalApproximation(nn.Module):\n",
    "    def __init__(self, D, n_flows=2):\n",
    "        super(VariationalApproximation, self).__init__()\n",
    "        self.flows = nn.ModuleList(\n",
    "            [planar_flow(D) for _ in range(n_flows)])\n",
    "        \n",
    "\n",
    "    def sample(self, dim):\n",
    "        sample = random_normal_samples(dim)\n",
    "        for flow in self.flows:\n",
    "            sample = flow(sample)\n",
    "        return sample\n",
    "     \n",
    "    def log_p(self, x, potential_function=pot_1):\n",
    "        base_logp = torch.sum(-potential_function(x))\n",
    "\n",
    "        logp_accum = 0\n",
    "        prev_sample = x\n",
    "        for i in range(len(self.flows)):\n",
    "            logp_accum += torch.sum(self.flows[i].log_prob(prev_sample))\n",
    "            prev_sample = self.flows[i](prev_sample)\n",
    "\n",
    "        return base_logp - logp_accum"
   ]
  },
  {
   "cell_type": "code",
   "execution_count": 140,
   "metadata": {},
   "outputs": [],
   "source": [
    "class planar_flow(nn.Module):\n",
    "    def __init__(self, D):\n",
    "        super(planar_flow, self).__init__()\n",
    "        self.u = nn.Linear(D, D)\n",
    "        self.w = nn.Linear(D, D)\n",
    "        \n",
    "        self.b = nn.Parameter(torch.rand(1, D))\n",
    "        self.h = torch.tanh\n",
    "    \n",
    "    def forward(self, z):\n",
    "        linear_term = self.w(z) + self.b\n",
    "        return z + self.u(self.h(linear_term))\n",
    "\n",
    "    def psi(self, z):\n",
    "        inner = (self.w(z) + self.b)\n",
    "        return self.w(1 - (self.h(inner) ** 2))\n",
    "\n",
    "    def log_prob(self, z):\n",
    "        inner = 1 + self.u(self.psi(z))\n",
    "        return torch.log(torch.abs(inner) + 1e-10)\n",
    "        "
   ]
  },
  {
   "cell_type": "code",
   "execution_count": null,
   "metadata": {},
   "outputs": [],
   "source": [
    "model = VariationalApproximation(2, 10)\n",
    "opt = torch.optim.Adam(params = model.parameters(), lr=1e-4)\n",
    "losses = []\n"
   ]
  },
  {
   "cell_type": "code",
   "execution_count": 202,
   "metadata": {},
   "outputs": [
    {
     "name": "stdout",
     "output_type": "stream",
     "text": [
      "Iteration 0\n",
      "Iteration 500\n",
      "Iteration 1000\n",
      "Iteration 1500\n",
      "Iteration 2000\n",
      "Iteration 2500\n",
      "Iteration 3000\n",
      "Iteration 3500\n",
      "Iteration 4000\n",
      "Iteration 4500\n",
      "Iteration 5000\n",
      "Iteration 5500\n",
      "Iteration 6000\n",
      "Iteration 6500\n",
      "Iteration 7000\n",
      "Iteration 7500\n",
      "Iteration 8000\n",
      "Iteration 8500\n",
      "Iteration 9000\n",
      "Iteration 9500\n"
     ]
    }
   ],
   "source": [
    "for i in range(10000):\n",
    "    if i % 500  == 0:\n",
    "        print(\"Iteration {}\".format(i))\n",
    "    samples = Variable(random_normal_samples(10000))\n",
    "    opt.zero_grad()\n",
    "    loss = - model.log_p(samples, pot_1)\n",
    "    loss.backward()\n",
    "    losses.append(loss.item())\n",
    "    opt.step()"
   ]
  },
  {
   "cell_type": "code",
   "execution_count": 200,
   "metadata": {},
   "outputs": [
    {
     "data": {
      "text/plain": [
       "[<matplotlib.lines.Line2D at 0x12aab8208>]"
      ]
     },
     "execution_count": 200,
     "metadata": {},
     "output_type": "execute_result"
    },
    {
     "data": {
      "image/png": "[encoded data removed]",
      "text/plain": [
       "<matplotlib.figure.Figure at 0x12a891d68>"
      ]
     },
     "metadata": {},
     "output_type": "display_data"
    }
   ],
   "source": [
    "# Look at the learning\n",
    "plt.plot(losses)"
   ]
  },
  {
   "cell_type": "code",
   "execution_count": 201,
   "metadata": {},
   "outputs": [
    {
     "data": {
      "text/plain": [
       "<seaborn.axisgrid.JointGrid at 0x12ad02588>"
      ]
     },
     "execution_count": 201,
     "metadata": {},
     "output_type": "execute_result"
    },
    {
     "data": {
      "image/png": "[encoded data removed]",
      "text/plain": [
       "<matplotlib.figure.Figure at 0x12ad025c0>"
      ]
     },
     "metadata": {},
     "output_type": "display_data"
    }
   ],
   "source": [
    "samples = (model.sample(2000)).detach().numpy()\n",
    "sns.jointplot(samples[:, 0], samples[:, 1], kind='kde')"
   ]
  },
  {
   "cell_type": "code",
   "execution_count": null,
   "metadata": {},
   "outputs": [],
   "source": []
  }
 ],
 "metadata": {
  "kernelspec": {
   "display_name": "Python 3",
   "language": "python",
   "name": "python3"
  },
  "language_info": {
   "codemirror_mode": {
    "name": "ipython",
    "version": 3
   },
   "file_extension": ".py",
   "mimetype": "text/x-python",
   "name": "python",
   "nbconvert_exporter": "python",
   "pygments_lexer": "ipython3",
   "version": "3.7.3"
  }
 },
 "nbformat": 4,
 "nbformat_minor": 2
}
